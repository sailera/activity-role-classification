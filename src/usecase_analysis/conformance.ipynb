{
 "cells": [
  {
   "cell_type": "markdown",
   "source": [
    "# Anomaly Detection Analysis"
   ],
   "metadata": {
    "collapsed": false,
    "pycharm": {
     "name": "#%% md\n"
    }
   }
  },
  {
   "cell_type": "code",
   "execution_count": 1,
   "outputs": [],
   "source": [
    "import pandas as pd\n",
    "from src.constants import FILEPATH_USECASE, FILEPATH_PREDICTIONS\n",
    "import os"
   ],
   "metadata": {
    "collapsed": false,
    "pycharm": {
     "name": "#%%\n"
    }
   }
  },
  {
   "cell_type": "code",
   "execution_count": 2,
   "outputs": [],
   "source": [
    "df = pd.read_csv(os.path.join(FILEPATH_USECASE, 'results_anomaly_bpi_2018_scores.csv'))"
   ],
   "metadata": {
    "collapsed": false,
    "pycharm": {
     "name": "#%%\n"
    }
   }
  },
  {
   "cell_type": "code",
   "execution_count": 3,
   "outputs": [
    {
     "data": {
      "text/plain": "                                            violation  severity    type  \\\n30              refuse occurred together with approve  1.000000     XOR   \n28                      decide occurred without check  0.750000  CO_OCC   \n29    remove document occurred before insert document  0.750000   ORDER   \n27                        decide occurred before plan  0.714286   ORDER   \n26                     performed occurred before plan  0.625000   ORDER   \n25                       decide occurred without plan  0.625000  CO_OCC   \n24              approve occurred before begin editing  0.500000   ORDER   \n23             performed offline occurred before plan  0.375000   ORDER   \n20                    performed occurred without plan  0.333333  CO_OCC   \n22       cancel offline occurred before begin editing  0.333333   ORDER   \n21  finish preparations occurred before begin prep...  0.333333   ORDER   \n19       finish editing occurred before begin editing  0.250000   ORDER   \n18  begin editing occurred together with cancel of...  0.142857     XOR   \n17            plan occurred without performed offline  0.142857  CO_OCC   \n16                begin editing occurred without plan  0.125000  CO_OCC   \n12                 begin editing occurred before plan  0.000000   ORDER   \n11      approve occurred together with finish editing  0.000000     XOR   \n15      begin editing occurred before prepare offline  0.000000   ORDER   \n13             withdraw occurred together with refuse  0.000000     XOR   \n14       begin editing occurred before cancel offline  0.000000   ORDER   \n10                       check occurred before decide -0.142857   ORDER   \n9       prepare offline occurred before begin editing -0.285714   ORDER   \n8      begin editing occurred without prepare offline -0.375000  CO_OCC   \n7          save occurred together with cancel offline -0.500000     XOR   \n6          check occurred together with begin editing -0.571429     XOR   \n5       create occurred together with prepare offline -0.625000     XOR   \n4         begin editing occurred together with create -0.777778     XOR   \n3                   save occurred together with check -0.777778     XOR   \n2                approve occurred together with check -0.857143     XOR   \n1        check occurred together with prepare offline -0.875000     XOR   \n0                 refuse occurred together with check -1.000000     XOR   \n\n                 event1              event2  \n30               refuse             approve  \n28               decide               check  \n29      remove document     insert document  \n27               decide                plan  \n26            performed                plan  \n25               decide                plan  \n24              approve       begin editing  \n23    performed offline                plan  \n20            performed                plan  \n22       cancel offline       begin editing  \n21  finish preparations  begin preparations  \n19       finish editing       begin editing  \n18        begin editing      cancel offline  \n17                 plan   performed offline  \n16        begin editing                plan  \n12        begin editing                plan  \n11              approve      finish editing  \n15        begin editing     prepare offline  \n13             withdraw              refuse  \n14        begin editing      cancel offline  \n10                check              decide  \n9       prepare offline       begin editing  \n8         begin editing     prepare offline  \n7                  save      cancel offline  \n6                 check       begin editing  \n5                create     prepare offline  \n4         begin editing              create  \n3                  save               check  \n2               approve               check  \n1                 check     prepare offline  \n0                refuse               check  ",
      "text/html": "<div>\n<style scoped>\n    .dataframe tbody tr th:only-of-type {\n        vertical-align: middle;\n    }\n\n    .dataframe tbody tr th {\n        vertical-align: top;\n    }\n\n    .dataframe thead th {\n        text-align: right;\n    }\n</style>\n<table border=\"1\" class=\"dataframe\">\n  <thead>\n    <tr style=\"text-align: right;\">\n      <th></th>\n      <th>violation</th>\n      <th>severity</th>\n      <th>type</th>\n      <th>event1</th>\n      <th>event2</th>\n    </tr>\n  </thead>\n  <tbody>\n    <tr>\n      <th>30</th>\n      <td>refuse occurred together with approve</td>\n      <td>1.000000</td>\n      <td>XOR</td>\n      <td>refuse</td>\n      <td>approve</td>\n    </tr>\n    <tr>\n      <th>28</th>\n      <td>decide occurred without check</td>\n      <td>0.750000</td>\n      <td>CO_OCC</td>\n      <td>decide</td>\n      <td>check</td>\n    </tr>\n    <tr>\n      <th>29</th>\n      <td>remove document occurred before insert document</td>\n      <td>0.750000</td>\n      <td>ORDER</td>\n      <td>remove document</td>\n      <td>insert document</td>\n    </tr>\n    <tr>\n      <th>27</th>\n      <td>decide occurred before plan</td>\n      <td>0.714286</td>\n      <td>ORDER</td>\n      <td>decide</td>\n      <td>plan</td>\n    </tr>\n    <tr>\n      <th>26</th>\n      <td>performed occurred before plan</td>\n      <td>0.625000</td>\n      <td>ORDER</td>\n      <td>performed</td>\n      <td>plan</td>\n    </tr>\n    <tr>\n      <th>25</th>\n      <td>decide occurred without plan</td>\n      <td>0.625000</td>\n      <td>CO_OCC</td>\n      <td>decide</td>\n      <td>plan</td>\n    </tr>\n    <tr>\n      <th>24</th>\n      <td>approve occurred before begin editing</td>\n      <td>0.500000</td>\n      <td>ORDER</td>\n      <td>approve</td>\n      <td>begin editing</td>\n    </tr>\n    <tr>\n      <th>23</th>\n      <td>performed offline occurred before plan</td>\n      <td>0.375000</td>\n      <td>ORDER</td>\n      <td>performed offline</td>\n      <td>plan</td>\n    </tr>\n    <tr>\n      <th>20</th>\n      <td>performed occurred without plan</td>\n      <td>0.333333</td>\n      <td>CO_OCC</td>\n      <td>performed</td>\n      <td>plan</td>\n    </tr>\n    <tr>\n      <th>22</th>\n      <td>cancel offline occurred before begin editing</td>\n      <td>0.333333</td>\n      <td>ORDER</td>\n      <td>cancel offline</td>\n      <td>begin editing</td>\n    </tr>\n    <tr>\n      <th>21</th>\n      <td>finish preparations occurred before begin prep...</td>\n      <td>0.333333</td>\n      <td>ORDER</td>\n      <td>finish preparations</td>\n      <td>begin preparations</td>\n    </tr>\n    <tr>\n      <th>19</th>\n      <td>finish editing occurred before begin editing</td>\n      <td>0.250000</td>\n      <td>ORDER</td>\n      <td>finish editing</td>\n      <td>begin editing</td>\n    </tr>\n    <tr>\n      <th>18</th>\n      <td>begin editing occurred together with cancel of...</td>\n      <td>0.142857</td>\n      <td>XOR</td>\n      <td>begin editing</td>\n      <td>cancel offline</td>\n    </tr>\n    <tr>\n      <th>17</th>\n      <td>plan occurred without performed offline</td>\n      <td>0.142857</td>\n      <td>CO_OCC</td>\n      <td>plan</td>\n      <td>performed offline</td>\n    </tr>\n    <tr>\n      <th>16</th>\n      <td>begin editing occurred without plan</td>\n      <td>0.125000</td>\n      <td>CO_OCC</td>\n      <td>begin editing</td>\n      <td>plan</td>\n    </tr>\n    <tr>\n      <th>12</th>\n      <td>begin editing occurred before plan</td>\n      <td>0.000000</td>\n      <td>ORDER</td>\n      <td>begin editing</td>\n      <td>plan</td>\n    </tr>\n    <tr>\n      <th>11</th>\n      <td>approve occurred together with finish editing</td>\n      <td>0.000000</td>\n      <td>XOR</td>\n      <td>approve</td>\n      <td>finish editing</td>\n    </tr>\n    <tr>\n      <th>15</th>\n      <td>begin editing occurred before prepare offline</td>\n      <td>0.000000</td>\n      <td>ORDER</td>\n      <td>begin editing</td>\n      <td>prepare offline</td>\n    </tr>\n    <tr>\n      <th>13</th>\n      <td>withdraw occurred together with refuse</td>\n      <td>0.000000</td>\n      <td>XOR</td>\n      <td>withdraw</td>\n      <td>refuse</td>\n    </tr>\n    <tr>\n      <th>14</th>\n      <td>begin editing occurred before cancel offline</td>\n      <td>0.000000</td>\n      <td>ORDER</td>\n      <td>begin editing</td>\n      <td>cancel offline</td>\n    </tr>\n    <tr>\n      <th>10</th>\n      <td>check occurred before decide</td>\n      <td>-0.142857</td>\n      <td>ORDER</td>\n      <td>check</td>\n      <td>decide</td>\n    </tr>\n    <tr>\n      <th>9</th>\n      <td>prepare offline occurred before begin editing</td>\n      <td>-0.285714</td>\n      <td>ORDER</td>\n      <td>prepare offline</td>\n      <td>begin editing</td>\n    </tr>\n    <tr>\n      <th>8</th>\n      <td>begin editing occurred without prepare offline</td>\n      <td>-0.375000</td>\n      <td>CO_OCC</td>\n      <td>begin editing</td>\n      <td>prepare offline</td>\n    </tr>\n    <tr>\n      <th>7</th>\n      <td>save occurred together with cancel offline</td>\n      <td>-0.500000</td>\n      <td>XOR</td>\n      <td>save</td>\n      <td>cancel offline</td>\n    </tr>\n    <tr>\n      <th>6</th>\n      <td>check occurred together with begin editing</td>\n      <td>-0.571429</td>\n      <td>XOR</td>\n      <td>check</td>\n      <td>begin editing</td>\n    </tr>\n    <tr>\n      <th>5</th>\n      <td>create occurred together with prepare offline</td>\n      <td>-0.625000</td>\n      <td>XOR</td>\n      <td>create</td>\n      <td>prepare offline</td>\n    </tr>\n    <tr>\n      <th>4</th>\n      <td>begin editing occurred together with create</td>\n      <td>-0.777778</td>\n      <td>XOR</td>\n      <td>begin editing</td>\n      <td>create</td>\n    </tr>\n    <tr>\n      <th>3</th>\n      <td>save occurred together with check</td>\n      <td>-0.777778</td>\n      <td>XOR</td>\n      <td>save</td>\n      <td>check</td>\n    </tr>\n    <tr>\n      <th>2</th>\n      <td>approve occurred together with check</td>\n      <td>-0.857143</td>\n      <td>XOR</td>\n      <td>approve</td>\n      <td>check</td>\n    </tr>\n    <tr>\n      <th>1</th>\n      <td>check occurred together with prepare offline</td>\n      <td>-0.875000</td>\n      <td>XOR</td>\n      <td>check</td>\n      <td>prepare offline</td>\n    </tr>\n    <tr>\n      <th>0</th>\n      <td>refuse occurred together with check</td>\n      <td>-1.000000</td>\n      <td>XOR</td>\n      <td>refuse</td>\n      <td>check</td>\n    </tr>\n  </tbody>\n</table>\n</div>"
     },
     "execution_count": 3,
     "metadata": {},
     "output_type": "execute_result"
    }
   ],
   "source": [
    "df.sort_values('severity')[::-1]"
   ],
   "metadata": {
    "collapsed": false,
    "pycharm": {
     "name": "#%%\n"
    }
   }
  },
  {
   "cell_type": "code",
   "execution_count": 4,
   "outputs": [
    {
     "data": {
      "text/plain": "                              concept:name annotation       pred\nconcept:name                                                    \nA_Accepted                      A_Accepted     decide     decide\nA_Cancelled                    A_Cancelled     decide     decide\nA_Complete                      A_Complete  transform  transform\nA_Concept                        A_Concept     manage  transform\nA_Create Application  A_Create Application     create     create\n...                                    ...        ...        ...\nRelease B                        Release B  transform  transform\nRelease C                        Release C  transform  transform\nRelease D                        Release D  transform  transform\nRelease E                        Release E  transform  transform\nReturn ER                        Return ER       move  transform\n\n[625 rows x 3 columns]",
      "text/html": "<div>\n<style scoped>\n    .dataframe tbody tr th:only-of-type {\n        vertical-align: middle;\n    }\n\n    .dataframe tbody tr th {\n        vertical-align: top;\n    }\n\n    .dataframe thead th {\n        text-align: right;\n    }\n</style>\n<table border=\"1\" class=\"dataframe\">\n  <thead>\n    <tr style=\"text-align: right;\">\n      <th></th>\n      <th>concept:name</th>\n      <th>annotation</th>\n      <th>pred</th>\n    </tr>\n    <tr>\n      <th>concept:name</th>\n      <th></th>\n      <th></th>\n      <th></th>\n    </tr>\n  </thead>\n  <tbody>\n    <tr>\n      <th>A_Accepted</th>\n      <td>A_Accepted</td>\n      <td>decide</td>\n      <td>decide</td>\n    </tr>\n    <tr>\n      <th>A_Cancelled</th>\n      <td>A_Cancelled</td>\n      <td>decide</td>\n      <td>decide</td>\n    </tr>\n    <tr>\n      <th>A_Complete</th>\n      <td>A_Complete</td>\n      <td>transform</td>\n      <td>transform</td>\n    </tr>\n    <tr>\n      <th>A_Concept</th>\n      <td>A_Concept</td>\n      <td>manage</td>\n      <td>transform</td>\n    </tr>\n    <tr>\n      <th>A_Create Application</th>\n      <td>A_Create Application</td>\n      <td>create</td>\n      <td>create</td>\n    </tr>\n    <tr>\n      <th>...</th>\n      <td>...</td>\n      <td>...</td>\n      <td>...</td>\n    </tr>\n    <tr>\n      <th>Release B</th>\n      <td>Release B</td>\n      <td>transform</td>\n      <td>transform</td>\n    </tr>\n    <tr>\n      <th>Release C</th>\n      <td>Release C</td>\n      <td>transform</td>\n      <td>transform</td>\n    </tr>\n    <tr>\n      <th>Release D</th>\n      <td>Release D</td>\n      <td>transform</td>\n      <td>transform</td>\n    </tr>\n    <tr>\n      <th>Release E</th>\n      <td>Release E</td>\n      <td>transform</td>\n      <td>transform</td>\n    </tr>\n    <tr>\n      <th>Return ER</th>\n      <td>Return ER</td>\n      <td>move</td>\n      <td>transform</td>\n    </tr>\n  </tbody>\n</table>\n<p>625 rows × 3 columns</p>\n</div>"
     },
     "execution_count": 4,
     "metadata": {},
     "output_type": "execute_result"
    }
   ],
   "source": [
    "df_pred = pd.read_csv(os.path.join(FILEPATH_PREDICTIONS, 'svc.csv'))\n",
    "df_pred.index = df_pred['concept:name']\n",
    "df_pred"
   ],
   "metadata": {
    "collapsed": false,
    "pycharm": {
     "name": "#%%\n"
    }
   }
  },
  {
   "cell_type": "code",
   "execution_count": 5,
   "outputs": [],
   "source": [
    "df['role1'] = list(df_pred.loc[df['event1']]['annotation'])\n",
    "df['role2'] = list(df_pred.loc[df['event2']]['annotation'])"
   ],
   "metadata": {
    "collapsed": false,
    "pycharm": {
     "name": "#%%\n"
    }
   }
  },
  {
   "cell_type": "code",
   "execution_count": 6,
   "outputs": [
    {
     "data": {
      "text/plain": "transform    25\ndecide       15\nmanage        8\nassess        7\npreserve      2\ncreate        2\nmove          1\ndestroy       1\ncombine       1\ndtype: int64"
     },
     "execution_count": 6,
     "metadata": {},
     "output_type": "execute_result"
    }
   ],
   "source": [
    "pd.concat([df['role1'], df['role2']]).value_counts()"
   ],
   "metadata": {
    "collapsed": false,
    "pycharm": {
     "name": "#%%\n"
    }
   }
  },
  {
   "cell_type": "code",
   "execution_count": 7,
   "outputs": [
    {
     "data": {
      "text/plain": "role1      role2    \ntransform  manage       5\n           transform    5\ndecide     assess       3\n           transform    3\nassess     transform    2\ndecide     manage       2\ntransform  decide       2\nassess     decide       1\ncreate     transform    1\ndecide     decide       1\ndestroy    combine      1\nmanage     transform    1\nmove       decide       1\npreserve   assess       1\n           decide       1\ntransform  create       1\ndtype: int64"
     },
     "execution_count": 7,
     "metadata": {},
     "output_type": "execute_result"
    }
   ],
   "source": [
    "df[['role1', 'role2']].value_counts()"
   ],
   "metadata": {
    "collapsed": false,
    "pycharm": {
     "name": "#%%\n"
    }
   }
  },
  {
   "cell_type": "code",
   "execution_count": 8,
   "outputs": [
    {
     "data": {
      "text/plain": "                            violation  severity  event1  event2\ntype   role1     role2                                         \nCO_OCC decide    assess             1         1       1       1\n                 manage             1         1       1       1\n       manage    transform          1         1       1       1\n       transform manage             2         2       2       2\n                 transform          1         1       1       1\nORDER  assess    decide             1         1       1       1\n       decide    manage             1         1       1       1\n                 transform          2         2       2       2\n       destroy   combine            1         1       1       1\n       transform decide             1         1       1       1\n                 manage             3         3       3       3\n                 transform          4         4       4       4\nXOR    assess    transform          2         2       2       2\n       create    transform          1         1       1       1\n       decide    assess             2         2       2       2\n                 decide             1         1       1       1\n                 transform          1         1       1       1\n       move      decide             1         1       1       1\n       preserve  assess             1         1       1       1\n                 decide             1         1       1       1\n       transform create             1         1       1       1\n                 decide             1         1       1       1",
      "text/html": "<div>\n<style scoped>\n    .dataframe tbody tr th:only-of-type {\n        vertical-align: middle;\n    }\n\n    .dataframe tbody tr th {\n        vertical-align: top;\n    }\n\n    .dataframe thead th {\n        text-align: right;\n    }\n</style>\n<table border=\"1\" class=\"dataframe\">\n  <thead>\n    <tr style=\"text-align: right;\">\n      <th></th>\n      <th></th>\n      <th></th>\n      <th>violation</th>\n      <th>severity</th>\n      <th>event1</th>\n      <th>event2</th>\n    </tr>\n    <tr>\n      <th>type</th>\n      <th>role1</th>\n      <th>role2</th>\n      <th></th>\n      <th></th>\n      <th></th>\n      <th></th>\n    </tr>\n  </thead>\n  <tbody>\n    <tr>\n      <th rowspan=\"5\" valign=\"top\">CO_OCC</th>\n      <th rowspan=\"2\" valign=\"top\">decide</th>\n      <th>assess</th>\n      <td>1</td>\n      <td>1</td>\n      <td>1</td>\n      <td>1</td>\n    </tr>\n    <tr>\n      <th>manage</th>\n      <td>1</td>\n      <td>1</td>\n      <td>1</td>\n      <td>1</td>\n    </tr>\n    <tr>\n      <th>manage</th>\n      <th>transform</th>\n      <td>1</td>\n      <td>1</td>\n      <td>1</td>\n      <td>1</td>\n    </tr>\n    <tr>\n      <th rowspan=\"2\" valign=\"top\">transform</th>\n      <th>manage</th>\n      <td>2</td>\n      <td>2</td>\n      <td>2</td>\n      <td>2</td>\n    </tr>\n    <tr>\n      <th>transform</th>\n      <td>1</td>\n      <td>1</td>\n      <td>1</td>\n      <td>1</td>\n    </tr>\n    <tr>\n      <th rowspan=\"7\" valign=\"top\">ORDER</th>\n      <th>assess</th>\n      <th>decide</th>\n      <td>1</td>\n      <td>1</td>\n      <td>1</td>\n      <td>1</td>\n    </tr>\n    <tr>\n      <th rowspan=\"2\" valign=\"top\">decide</th>\n      <th>manage</th>\n      <td>1</td>\n      <td>1</td>\n      <td>1</td>\n      <td>1</td>\n    </tr>\n    <tr>\n      <th>transform</th>\n      <td>2</td>\n      <td>2</td>\n      <td>2</td>\n      <td>2</td>\n    </tr>\n    <tr>\n      <th>destroy</th>\n      <th>combine</th>\n      <td>1</td>\n      <td>1</td>\n      <td>1</td>\n      <td>1</td>\n    </tr>\n    <tr>\n      <th rowspan=\"3\" valign=\"top\">transform</th>\n      <th>decide</th>\n      <td>1</td>\n      <td>1</td>\n      <td>1</td>\n      <td>1</td>\n    </tr>\n    <tr>\n      <th>manage</th>\n      <td>3</td>\n      <td>3</td>\n      <td>3</td>\n      <td>3</td>\n    </tr>\n    <tr>\n      <th>transform</th>\n      <td>4</td>\n      <td>4</td>\n      <td>4</td>\n      <td>4</td>\n    </tr>\n    <tr>\n      <th rowspan=\"10\" valign=\"top\">XOR</th>\n      <th>assess</th>\n      <th>transform</th>\n      <td>2</td>\n      <td>2</td>\n      <td>2</td>\n      <td>2</td>\n    </tr>\n    <tr>\n      <th>create</th>\n      <th>transform</th>\n      <td>1</td>\n      <td>1</td>\n      <td>1</td>\n      <td>1</td>\n    </tr>\n    <tr>\n      <th rowspan=\"3\" valign=\"top\">decide</th>\n      <th>assess</th>\n      <td>2</td>\n      <td>2</td>\n      <td>2</td>\n      <td>2</td>\n    </tr>\n    <tr>\n      <th>decide</th>\n      <td>1</td>\n      <td>1</td>\n      <td>1</td>\n      <td>1</td>\n    </tr>\n    <tr>\n      <th>transform</th>\n      <td>1</td>\n      <td>1</td>\n      <td>1</td>\n      <td>1</td>\n    </tr>\n    <tr>\n      <th>move</th>\n      <th>decide</th>\n      <td>1</td>\n      <td>1</td>\n      <td>1</td>\n      <td>1</td>\n    </tr>\n    <tr>\n      <th rowspan=\"2\" valign=\"top\">preserve</th>\n      <th>assess</th>\n      <td>1</td>\n      <td>1</td>\n      <td>1</td>\n      <td>1</td>\n    </tr>\n    <tr>\n      <th>decide</th>\n      <td>1</td>\n      <td>1</td>\n      <td>1</td>\n      <td>1</td>\n    </tr>\n    <tr>\n      <th rowspan=\"2\" valign=\"top\">transform</th>\n      <th>create</th>\n      <td>1</td>\n      <td>1</td>\n      <td>1</td>\n      <td>1</td>\n    </tr>\n    <tr>\n      <th>decide</th>\n      <td>1</td>\n      <td>1</td>\n      <td>1</td>\n      <td>1</td>\n    </tr>\n  </tbody>\n</table>\n</div>"
     },
     "execution_count": 8,
     "metadata": {},
     "output_type": "execute_result"
    }
   ],
   "source": [
    "df.groupby(['type', 'role1', 'role2']).count()"
   ],
   "metadata": {
    "collapsed": false,
    "pycharm": {
     "name": "#%%\n"
    }
   }
  },
  {
   "cell_type": "code",
   "execution_count": 8,
   "outputs": [],
   "source": [],
   "metadata": {
    "collapsed": false,
    "pycharm": {
     "name": "#%%\n"
    }
   }
  },
  {
   "cell_type": "code",
   "execution_count": null,
   "outputs": [],
   "source": [],
   "metadata": {
    "collapsed": false,
    "pycharm": {
     "name": "#%%\n"
    }
   }
  }
 ],
 "metadata": {
  "kernelspec": {
   "display_name": "Python 3",
   "language": "python",
   "name": "python3"
  },
  "language_info": {
   "codemirror_mode": {
    "name": "ipython",
    "version": 2
   },
   "file_extension": ".py",
   "mimetype": "text/x-python",
   "name": "python",
   "nbconvert_exporter": "python",
   "pygments_lexer": "ipython2",
   "version": "2.7.6"
  }
 },
 "nbformat": 4,
 "nbformat_minor": 0
}